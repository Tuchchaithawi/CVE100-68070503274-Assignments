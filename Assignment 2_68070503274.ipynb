{
  "cells": [
    {
      "cell_type": "markdown",
      "metadata": {
        "id": "WPvcyd59BUNk"
      },
      "source": [
        "#  Numbers"
      ]
    },
    {
      "cell_type": "markdown",
      "metadata": {
        "id": "n_DTrNSDBUNl"
      },
      "source": [
        "Compute the number of bytes in one Gigabyte (1kb = 1024 bytes, 1mb = 1024 kb, 1gb = 1024 mb)"
      ]
    },
    {
      "cell_type": "code",
      "execution_count": 1,
      "metadata": {
        "colab": {
          "base_uri": "https://localhost:8080/"
        },
        "id": "6JlnAmSJBUNl",
        "outputId": "3ccd7ecf-124b-47f5-be2c-0469e007df05"
      },
      "outputs": [
        {
          "output_type": "stream",
          "name": "stdout",
          "text": [
            "The number of bytes in one Gigabyte is:1073741824\n"
          ]
        }
      ],
      "source": [
        "#Write your code here\n",
        "bytes_in_kb = 1024\n",
        "bytes_in_mb = 1024 * bytes_in_kb\n",
        "bytes_in_gb = 1024 * bytes_in_mb\n",
        "\n",
        "print(f\"The number of bytes in one Gigabyte is:{bytes_in_gb}\")"
      ]
    },
    {
      "cell_type": "markdown",
      "metadata": {
        "id": "gyIbiyuGBUNl"
      },
      "source": [
        "You bought 500 shares of stock A at $\\$$600 on day 0 and you sold it at  $\\$$1000 on day 700.\n",
        "The daily discount rate is 0.0001%. How much profit did you make in terms of net present value.\n"
      ]
    },
    {
      "cell_type": "code",
      "execution_count": 3,
      "metadata": {
        "colab": {
          "base_uri": "https://localhost:8080/"
        },
        "id": "l0LyV1rvBUNm",
        "outputId": "4dff8a45-ea94-40f1-d9bb-64137833bc30"
      },
      "outputs": [
        {
          "output_type": "stream",
          "name": "stdout",
          "text": [
            "285.71400000028575\n"
          ]
        }
      ],
      "source": [
        "#Write your code here\n",
        "share = 500\n",
        "buy_price = 600\n",
        "sell_price = 1000\n",
        "days = 700\n",
        "discount_rate = 0.0001 / 100\n",
        "\n",
        "profit = (sell_price - buy_price) * share\n",
        "npv = profit / ((1 + discount_rate) * days)\n",
        "print(npv)"
      ]
    },
    {
      "cell_type": "markdown",
      "metadata": {
        "id": "hcOBbnewBUNm"
      },
      "source": [
        "For any value of x, create a variable called even_check that is True if x is even and False if x is odd."
      ]
    },
    {
      "cell_type": "code",
      "execution_count": 4,
      "metadata": {
        "run_control": {
          "marked": true
        },
        "colab": {
          "base_uri": "https://localhost:8080/"
        },
        "id": "U63cuRlVBUNm",
        "outputId": "2e454c1e-7e33-4c99-9083-33884c7ed8d1"
      },
      "outputs": [
        {
          "output_type": "stream",
          "name": "stdout",
          "text": [
            "False\n"
          ]
        }
      ],
      "source": [
        "#Write your code here\n",
        "x = 7\n",
        "even_check = (x % 2 == 0)\n",
        "print(even_check)"
      ]
    },
    {
      "cell_type": "markdown",
      "metadata": {
        "id": "YoSAcepfBUNm"
      },
      "source": [
        "You have num_shirts t-shirts, num_shorts pairs of shorts and num_shoes pairs of shoes.  Create a variable called num_outfits that stores the total number of different outfits you can make."
      ]
    },
    {
      "cell_type": "code",
      "execution_count": 5,
      "metadata": {
        "colab": {
          "base_uri": "https://localhost:8080/"
        },
        "id": "JoJrQ2VtBUNm",
        "outputId": "32955a1e-ee87-421f-8c19-ab6fe3208ba4"
      },
      "outputs": [
        {
          "output_type": "stream",
          "name": "stdout",
          "text": [
            "30\n"
          ]
        }
      ],
      "source": [
        "#Write your code here\n",
        "num_shirts = 5\n",
        "num_shorts = 3\n",
        "num_shoes  = 2\n",
        "\n",
        "num_outfits = num_shirts * num_shorts * num_shoes\n",
        "print(num_outfits)"
      ]
    },
    {
      "cell_type": "markdown",
      "metadata": {
        "id": "qKI0yFJdBUNm"
      },
      "source": [
        "# String Practice\n",
        "\n",
        "Create variable called \"name\" that stores your full name. Find whether your name has an even or odd number of letters."
      ]
    },
    {
      "cell_type": "code",
      "execution_count": 10,
      "metadata": {
        "colab": {
          "base_uri": "https://localhost:8080/"
        },
        "id": "h_hEw-A7BUNm",
        "outputId": "feee42a6-5618-4c13-9db6-11d2d96cd263"
      },
      "outputs": [
        {
          "output_type": "stream",
          "name": "stdout",
          "text": [
            "Even number of letters\n"
          ]
        }
      ],
      "source": [
        "#Write your code here\n",
        "name = \"Tuchchai Thawinnok\"\n",
        "if len(name) % 2 == 0:\n",
        "  print(\"Even number of letters\")\n",
        "else:\n",
        "  print(\"Odd number of letters\")"
      ]
    },
    {
      "cell_type": "markdown",
      "metadata": {
        "id": "UQzJnLeWBUNm"
      },
      "source": [
        "Correct the following variable so it is equal to \"spammy\""
      ]
    },
    {
      "cell_type": "code",
      "execution_count": 11,
      "metadata": {
        "colab": {
          "base_uri": "https://localhost:8080/"
        },
        "id": "Zpjix5MtBUNn",
        "outputId": "efb48d88-98bd-48a1-f0f5-0f64c2697696"
      },
      "outputs": [
        {
          "output_type": "stream",
          "name": "stdout",
          "text": [
            "spammy\n"
          ]
        }
      ],
      "source": [
        "#Write your code here\n",
        "s = \"spaxxy\"\n",
        "s = s.replace(\"xx\" , \"mm\")\n",
        "print(s)"
      ]
    },
    {
      "cell_type": "markdown",
      "metadata": {
        "id": "plzGR6ZnBUNn"
      },
      "source": [
        "Figure out a way to slice and combine the strings s1, s2, and s3 so that the variable consec_ints = \"123456789\"."
      ]
    },
    {
      "cell_type": "code",
      "execution_count": 12,
      "metadata": {
        "colab": {
          "base_uri": "https://localhost:8080/"
        },
        "id": "q9ReqYhHBUNn",
        "outputId": "caa56ce2-5570-4718-c4c9-1ea0d1f64b94"
      },
      "outputs": [
        {
          "output_type": "stream",
          "name": "stdout",
          "text": [
            "1234556789\n"
          ]
        }
      ],
      "source": [
        "s1 = \"12345\"\n",
        "s2 = \"34567\"\n",
        "s3 = \"789\"\n",
        "\n",
        "#Write your code here\n",
        "consec_ints = s1 + s2[2:4] + s3\n",
        "print(consec_ints)"
      ]
    },
    {
      "cell_type": "markdown",
      "metadata": {
        "id": "lAur7yPoBUNn"
      },
      "source": [
        "#  List Practice\n",
        "\n"
      ]
    },
    {
      "cell_type": "markdown",
      "metadata": {
        "id": "lGHnGMiFBUNn"
      },
      "source": [
        "Add the first and last elements of the list L. Store the result in a variable called sum_first_last. Your code should work if I change L."
      ]
    },
    {
      "cell_type": "code",
      "execution_count": 13,
      "metadata": {
        "colab": {
          "base_uri": "https://localhost:8080/"
        },
        "id": "EJhACMNkBUNn",
        "outputId": "11d31512-cfc8-4e1c-802e-04fcb4db9f16"
      },
      "outputs": [
        {
          "output_type": "stream",
          "name": "stdout",
          "text": [
            "72\n"
          ]
        }
      ],
      "source": [
        "L = [5,1,43,2,4,56,7,90, 67]\n",
        "\n",
        "#Write your code here\n",
        "sum_first_last = L[0] + L[-1]\n",
        "print(sum_first_last)"
      ]
    },
    {
      "cell_type": "markdown",
      "metadata": {
        "id": "8f7C4XdXBUNn"
      },
      "source": [
        "Slice and combine the elements of the list L in a way to print out \"spam\"."
      ]
    },
    {
      "cell_type": "code",
      "execution_count": 14,
      "metadata": {
        "colab": {
          "base_uri": "https://localhost:8080/"
        },
        "id": "8gDF6c56BUNn",
        "outputId": "59a817fb-c28f-4f7f-8432-2da6d2782468"
      },
      "outputs": [
        {
          "output_type": "stream",
          "name": "stdout",
          "text": [
            "spam\n"
          ]
        }
      ],
      "source": [
        "L = [1,\"s\", 2, 3, \"p\", \"a\", 34,1,\"m\"]\n",
        "\n",
        "#Write your code here\n",
        "word = L[1] + L[4] + L[5] + L[-1]\n",
        "print(word)"
      ]
    },
    {
      "cell_type": "markdown",
      "metadata": {
        "id": "1FxYfUI-BUNn"
      },
      "source": [
        "Create a variable called num_L which store the number represented by the list of strings in L.  For the example num_L should be 145. You may assume 3 digit numbers."
      ]
    },
    {
      "cell_type": "code",
      "execution_count": 22,
      "metadata": {
        "colab": {
          "base_uri": "https://localhost:8080/"
        },
        "id": "xIIC0Z9RBUNn",
        "outputId": "7b0e2036-d75d-438f-b112-08d0ee9b02e6"
      },
      "outputs": [
        {
          "output_type": "stream",
          "name": "stdout",
          "text": [
            "145\n"
          ]
        }
      ],
      "source": [
        "L = [\"1\",\"4\",\"5\" ]\n",
        "\n",
        "#Write you code here\n",
        "L_str = [\"1\",\"4\",\"5\"]\n",
        "num_L = int(\"\".join(L_str))\n",
        "print(num_L)"
      ]
    },
    {
      "cell_type": "markdown",
      "metadata": {
        "id": "uJkR7F6vBUNo"
      },
      "source": [
        "Create a list L of numbers of odd length.  Complete the following tasks:\n",
        "\n",
        " - Find the median element\n",
        " - Slice out all element indexed lower than the median element"
      ]
    },
    {
      "cell_type": "code",
      "execution_count": 25,
      "metadata": {
        "colab": {
          "base_uri": "https://localhost:8080/"
        },
        "id": "JJ8mZJlXBUNo",
        "outputId": "ca6ed07a-b55e-4eb5-ce8a-2d5ec4601f45"
      },
      "outputs": [
        {
          "output_type": "stream",
          "name": "stdout",
          "text": [
            "Median element: 2\n",
            "Sliced list from median index [2, 6, 6, 9]\n"
          ]
        }
      ],
      "source": [
        "L= [4,5,3,2,6,6,9]\n",
        "\n",
        "#Write your code here\n",
        "median_index = len(L) // 2\n",
        "median_element = L[median_index]\n",
        "print(\"Median element:\", median_element)\n",
        "\n",
        "sliced_L = L[median_index:]\n",
        "print(\"Sliced list from median index\", sliced_L)"
      ]
    }
  ],
  "metadata": {
    "kernelspec": {
      "display_name": "Python 3",
      "language": "python",
      "name": "python3"
    },
    "language_info": {
      "codemirror_mode": {
        "name": "ipython",
        "version": 3
      },
      "file_extension": ".py",
      "mimetype": "text/x-python",
      "name": "python",
      "nbconvert_exporter": "python",
      "pygments_lexer": "ipython3",
      "version": "3.6.0"
    },
    "toc": {
      "colors": {
        "hover_highlight": "#DAA520",
        "navigate_num": "#000000",
        "navigate_text": "#333333",
        "running_highlight": "#FF0000",
        "selected_highlight": "#FFD700",
        "sidebar_border": "#EEEEEE",
        "wrapper_background": "#FFFFFF"
      },
      "moveMenuLeft": true,
      "nav_menu": {
        "height": "12px",
        "width": "252px"
      },
      "navigate_menu": true,
      "number_sections": true,
      "sideBar": true,
      "skip_h1_title": false,
      "threshold": 4,
      "toc_cell": false,
      "toc_position": {},
      "toc_section_display": "block",
      "toc_window_display": false,
      "widenNotebook": false
    },
    "colab": {
      "provenance": []
    }
  },
  "nbformat": 4,
  "nbformat_minor": 0
}